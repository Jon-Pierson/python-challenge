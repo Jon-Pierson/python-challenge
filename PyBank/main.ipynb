{
 "cells": [
  {
   "cell_type": "code",
   "execution_count": 1,
   "metadata": {},
   "outputs": [
    {
     "name": "stdout",
     "output_type": "stream",
     "text": [
      "     Date  Profit/Losses\n",
      "0  Jan-10        1088983\n",
      "1  Feb-10        -354534\n",
      "2  Mar-10         276622\n",
      "3  Apr-10        -728133\n",
      "4  May-10         852993\n"
     ]
    }
   ],
   "source": [
    "import pandas as pd\n",
    "\n",
    "# Create file path for budget_data.csv\n",
    "file_path = \"Resources/budget_data.csv\"\n",
    "\n",
    "# Read the csv file into a pandas DataFrame\n",
    "budget_data = pd.read_csv(file_path)\n",
    "\n",
    "# Display the first 5 rows of the DataFrame to understand the data\n",
    "print(budget_data.head())\n"
   ]
  },
  {
   "cell_type": "code",
   "execution_count": 2,
   "metadata": {},
   "outputs": [
    {
     "name": "stdout",
     "output_type": "stream",
     "text": [
      "Total Months: 86\n"
     ]
    }
   ],
   "source": [
    "# Calculate the total number of months included in the DataFrame\n",
    "total_months = len(budget_data)\n",
    "print(f\"Total Months: {total_months}\")"
   ]
  },
  {
   "cell_type": "code",
   "execution_count": 3,
   "metadata": {},
   "outputs": [
    {
     "name": "stdout",
     "output_type": "stream",
     "text": [
      "Total: $22564198\n"
     ]
    }
   ],
   "source": [
    "# Calculate the net total amount of \"Profit/Losses\" over the entire period\n",
    "net_total = budget_data[\"Profit/Losses\"].sum()\n",
    "print(f\"Total: ${net_total}\")"
   ]
  },
  {
   "cell_type": "code",
   "execution_count": 4,
   "metadata": {},
   "outputs": [
    {
     "name": "stdout",
     "output_type": "stream",
     "text": [
      "Greatest Increase in Profits: Mar-13 ($1141840)\n"
     ]
    }
   ],
   "source": [
    "# Find the greatest increase in profits (date and amount) over the entire period\n",
    "max_profit = budget_data[\"Profit/Losses\"].max()\n",
    "max_profit_date = budget_data.loc[budget_data[\"Profit/Losses\"] == max_profit, \"Date\"].values[0]\n",
    "print(f\"Greatest Increase in Profits: {max_profit_date} (${max_profit})\")"
   ]
  }
 ],
 "metadata": {
  "kernelspec": {
   "display_name": ".venv",
   "language": "python",
   "name": "python3"
  },
  "language_info": {
   "codemirror_mode": {
    "name": "ipython",
    "version": 3
   },
   "file_extension": ".py",
   "mimetype": "text/x-python",
   "name": "python",
   "nbconvert_exporter": "python",
   "pygments_lexer": "ipython3",
   "version": "3.11.7"
  }
 },
 "nbformat": 4,
 "nbformat_minor": 2
}
