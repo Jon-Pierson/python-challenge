{
 "cells": [
  {
   "cell_type": "code",
   "execution_count": 1,
   "metadata": {},
   "outputs": [
    {
     "name": "stdout",
     "output_type": "stream",
     "text": [
      "     Date  Profit/Losses\n",
      "0  Jan-10        1088983\n",
      "1  Feb-10        -354534\n",
      "2  Mar-10         276622\n",
      "3  Apr-10        -728133\n",
      "4  May-10         852993\n"
     ]
    }
   ],
   "source": [
    "import pandas as pd\n",
    "\n",
    "# Create file path for budget_data.csv\n",
    "file_path = \"Resources/budget_data.csv\"\n",
    "\n",
    "# Read the csv file into a pandas DataFrame\n",
    "budget_data = pd.read_csv(file_path)\n",
    "\n",
    "# Display the first 5 rows of the DataFrame to understand the data\n",
    "print(budget_data.head())\n"
   ]
  },
  {
   "cell_type": "code",
   "execution_count": 2,
   "metadata": {},
   "outputs": [
    {
     "name": "stdout",
     "output_type": "stream",
     "text": [
      "Total Months: 86\n"
     ]
    }
   ],
   "source": [
    "# Calculate the total number of months included in the DataFrame\n",
    "total_months = len(budget_data)\n",
    "print(f\"Total Months: {total_months}\")"
   ]
  },
  {
   "cell_type": "code",
   "execution_count": 3,
   "metadata": {},
   "outputs": [
    {
     "name": "stdout",
     "output_type": "stream",
     "text": [
      "Total: $22564198\n"
     ]
    }
   ],
   "source": [
    "# Calculate the net total amount of \"Profit/Losses\" over the entire period\n",
    "net_total = budget_data[\"Profit/Losses\"].sum()\n",
    "print(f\"Total: ${net_total}\")"
   ]
  },
  {
   "cell_type": "code",
   "execution_count": 34,
   "metadata": {},
   "outputs": [
    {
     "name": "stdout",
     "output_type": "stream",
     "text": [
      "Average Change: $-8311.11\n"
     ]
    }
   ],
   "source": [
    "# Calculate the average of the changes in \"Profit/Losses\" over the entire period\n",
    "budget_data[\"Change\"] = budget_data[\"Profit/Losses\"].diff()\n",
    "average_change = budget_data[\"Change\"].mean()\n",
    "print(f\"Average Change: ${average_change:.2f}\")"
   ]
  },
  {
   "cell_type": "code",
   "execution_count": 4,
   "metadata": {},
   "outputs": [
    {
     "name": "stdout",
     "output_type": "stream",
     "text": [
      "Greatest Increase in Profits: Mar-13 ($1141840)\n"
     ]
    }
   ],
   "source": [
    "# Find the greatest increase in profits (date and amount) over the entire period\n",
    "max_profit = budget_data[\"Profit/Losses\"].max()\n",
    "max_profit_date = budget_data.loc[budget_data[\"Profit/Losses\"] == max_profit, \"Date\"].values[0]\n",
    "print(f\"Greatest Increase in Profits: {max_profit_date} (${max_profit})\")"
   ]
  },
  {
   "cell_type": "code",
   "execution_count": 5,
   "metadata": {},
   "outputs": [
    {
     "name": "stdout",
     "output_type": "stream",
     "text": [
      "Greatest Decrease in Profits: Dec-10 ($-1194133)\n"
     ]
    }
   ],
   "source": [
    "# Find the greatest decrease in losses (date and amount) over the entire period\n",
    "min_profit = budget_data[\"Profit/Losses\"].min()\n",
    "min_profit_date = budget_data.loc[budget_data[\"Profit/Losses\"] == min_profit, \"Date\"].values[0]\n",
    "print(f\"Greatest Decrease in Profits: {min_profit_date} (${min_profit})\")"
   ]
  },
  {
   "cell_type": "code",
   "execution_count": 28,
   "metadata": {},
   "outputs": [
    {
     "name": "stdout",
     "output_type": "stream",
     "text": [
      "Directory exists: c:\\Users\\Jon\\OneDrive\\githubRepo\\python-challenge\\PyBank\\analysis\n"
     ]
    }
   ],
   "source": [
    "import os\n",
    "\n",
    "# Define the home and sub directories for the output file\n",
    "home_dir = os.getcwd()\n",
    "\n",
    "# Define the subdirectory to save the output file\n",
    "analysis_dir = os.path.join(home_dir, \"analysis\")\n",
    "\n",
    "# Ensure the directory exists before writing the output file\n",
    "if os.path.exists(analysis_dir) and os.path.isdir(analysis_dir):\n",
    "    print(f\"Directory exists: {analysis_dir}\")\n",
    "else:\n",
    "    print(f\"Directory does not exist: {analysis_dir}\")"
   ]
  },
  {
   "cell_type": "code",
   "execution_count": 29,
   "metadata": {},
   "outputs": [
    {
     "name": "stdout",
     "output_type": "stream",
     "text": [
      "Output File Path: c:\\Users\\Jon\\OneDrive\\githubRepo\\python-challenge\\PyBank\\analysis\\financial_analysis.txt\n"
     ]
    }
   ],
   "source": [
    "# Define the name of the output file\n",
    "output_file = \"financial_analysis.txt\"\n",
    "\n",
    "# Combine the directory and file name to create the file path\n",
    "output_file_path = os.path.join(analysis_dir, output_file)\n",
    "\n",
    "# Display the output file path\n",
    "print(f\"Output File Path: {output_file_path}\")"
   ]
  },
  {
   "cell_type": "code",
   "execution_count": 35,
   "metadata": {},
   "outputs": [],
   "source": [
    "# Print the Financial Analysis to the text file to the analysis directory\n",
    "with open(output_file_path, \"w\") as file:\n",
    "    file.write(\"Financial Analysis\\n\\n\")\n",
    "    file.write(\"----------------------------\\n\\n\")\n",
    "    file.write(f\"Total Months: {total_months}\\n\\n\")\n",
    "    file.write(f\"Total: ${net_total}\\n\\n\")\n",
    "    file.write(f\"Average Change: ${average_change:.2f}\\n\\n\")\n",
    "    file.write(f\"Greatest Increase in Profits: {max_profit_date} (${max_profit})\\n\\n\")\n",
    "    file.write(f\"Greatest Decrease in Profits: {min_profit_date} (${min_profit})\")"
   ]
  }
 ],
 "metadata": {
  "kernelspec": {
   "display_name": ".venv",
   "language": "python",
   "name": "python3"
  },
  "language_info": {
   "codemirror_mode": {
    "name": "ipython",
    "version": 3
   },
   "file_extension": ".py",
   "mimetype": "text/x-python",
   "name": "python",
   "nbconvert_exporter": "python",
   "pygments_lexer": "ipython3",
   "version": "3.11.7"
  }
 },
 "nbformat": 4,
 "nbformat_minor": 2
}
