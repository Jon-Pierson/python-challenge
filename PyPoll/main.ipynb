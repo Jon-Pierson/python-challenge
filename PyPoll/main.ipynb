{
 "cells": [
  {
   "cell_type": "code",
   "execution_count": 2,
   "metadata": {},
   "outputs": [
    {
     "name": "stdout",
     "output_type": "stream",
     "text": [
      "   Ballot ID     County                Candidate\n",
      "0    1323913  Jefferson  Charles Casper Stockham\n",
      "1    1005842  Jefferson  Charles Casper Stockham\n",
      "2    1880345  Jefferson  Charles Casper Stockham\n",
      "3    1600337  Jefferson  Charles Casper Stockham\n",
      "4    1835994  Jefferson  Charles Casper Stockham\n"
     ]
    }
   ],
   "source": [
    "import pandas as pd\n",
    "\n",
    "# Create file path for election data csv file\n",
    "file_path = \"Resources/election_data.csv\"\n",
    "\n",
    "# Read the csv file into a pandas DataFrame\n",
    "election_data = pd.read_csv(file_path)\n",
    "\n",
    "# Display the first 5 rows of the DataFrame to understand the data\n",
    "print(election_data.head())"
   ]
  },
  {
   "cell_type": "code",
   "execution_count": 3,
   "metadata": {},
   "outputs": [
    {
     "name": "stdout",
     "output_type": "stream",
     "text": [
      "Total Votes: 369711\n"
     ]
    }
   ],
   "source": [
    "# Calculate the total number of votes cast\n",
    "total_votes = election_data[\"Ballot ID\"].count()\n",
    "print(f\"Total Votes: {total_votes}\")"
   ]
  },
  {
   "cell_type": "code",
   "execution_count": 4,
   "metadata": {},
   "outputs": [
    {
     "name": "stdout",
     "output_type": "stream",
     "text": [
      "Candidate\n",
      "Diana DeGette              272892\n",
      "Charles Casper Stockham     85213\n",
      "Raymon Anthony Doane        11606\n",
      "Name: count, dtype: int64\n"
     ]
    }
   ],
   "source": [
    "# Calculate the total number of votes each candidate received\n",
    "candidate_votes = election_data[\"Candidate\"].value_counts()\n",
    "print(candidate_votes)"
   ]
  },
  {
   "cell_type": "code",
   "execution_count": 5,
   "metadata": {},
   "outputs": [
    {
     "name": "stdout",
     "output_type": "stream",
     "text": [
      "Candidate\n",
      "Diana DeGette              73.812248\n",
      "Charles Casper Stockham    23.048543\n",
      "Raymon Anthony Doane        3.139209\n",
      "Name: count, dtype: float64\n"
     ]
    }
   ],
   "source": [
    "# Calculate the percentage of votes each candidate received\n",
    "candidate_percent = candidate_votes / total_votes * 100\n",
    "print(candidate_percent)"
   ]
  },
  {
   "cell_type": "code",
   "execution_count": 6,
   "metadata": {},
   "outputs": [
    {
     "name": "stdout",
     "output_type": "stream",
     "text": [
      "Candidate\n",
      "Diana DeGette              73.81%\n",
      "Charles Casper Stockham    23.05%\n",
      "Raymon Anthony Doane        3.14%\n",
      "Name: count, dtype: object\n"
     ]
    }
   ],
   "source": [
    "# Change candidate_percent to 2 sig figs with %\n",
    "candidate_percent = candidate_percent.map(\"{:.2f}%\".format)\n",
    "print(candidate_percent)"
   ]
  },
  {
   "cell_type": "code",
   "execution_count": 7,
   "metadata": {},
   "outputs": [
    {
     "name": "stdout",
     "output_type": "stream",
     "text": [
      "Winner: Diana DeGette\n"
     ]
    }
   ],
   "source": [
    "# Find the winner of the election based on popular vote\n",
    "winner = candidate_votes.idxmax()\n",
    "print(f\"Winner: {winner}\")"
   ]
  },
  {
   "cell_type": "code",
   "execution_count": 9,
   "metadata": {},
   "outputs": [
    {
     "name": "stdout",
     "output_type": "stream",
     "text": [
      "Directory exists: c:\\Users\\Jon\\OneDrive\\githubRepo\\python-challenge\\PyPoll\\analysis\n"
     ]
    }
   ],
   "source": [
    "import os\n",
    "\n",
    "# Define the home directory for the output file\n",
    "home_dir = os.getcwd()\n",
    "\n",
    "# Define the subdirectory to save the output file\n",
    "analysis_dir = os.path.join(home_dir, \"analysis\")\n",
    "\n",
    "# Ensure the directory exists before writing the output file\n",
    "if os.path.exists(analysis_dir) and os.path.isdir(analysis_dir):\n",
    "    print(f\"Directory exists: {analysis_dir}\")\n",
    "else:\n",
    "    print(f\"Directory does not exist: {analysis_dir}\")"
   ]
  }
 ],
 "metadata": {
  "kernelspec": {
   "display_name": "base",
   "language": "python",
   "name": "python3"
  },
  "language_info": {
   "codemirror_mode": {
    "name": "ipython",
    "version": 3
   },
   "file_extension": ".py",
   "mimetype": "text/x-python",
   "name": "python",
   "nbconvert_exporter": "python",
   "pygments_lexer": "ipython3",
   "version": "3.11.7"
  }
 },
 "nbformat": 4,
 "nbformat_minor": 2
}
